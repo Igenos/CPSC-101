{
 "cells": [
  {
   "cell_type": "markdown",
   "metadata": {},
   "source": [
    "### Assignment 3 - Algorithm Analysis (Due Mar 21)\n",
    "\n",
    "---\n",
    "\n",
    "\n",
    "## Completion requirements\n",
    "\n",
    "Due: Friday, 21 March 2025, 11:59 PM\n",
    "\n",
    "\n",
    "## Min/Max Search Limit Function \n",
    "Extend the minimum two value/indices function from the lecture to give more values and the choice of min/max. i.e. write a function in python that accepts 3 parameters\n",
    "\n",
    "    - A list to search from\n",
    "    - Choice of min/max\n",
    "    - Number of elements\n",
    "    - Dutch Flag Problem  \n",
    "\n",
    "Extend the Dutch Flag Problem from the lecture to 3 colours. i.e. given a list of strings, each of which is either 'red', 'white', or 'blue' (each is repeated several times in the list), rearrange the list so that the strings are in the order of the Dutch national flag—all the 'red' strings first, then all the 'white' strings, then all the 'blue' strings. Write a function called dutch_flag that takes a list and solves this problem.\n",
    "Generate random lists for n = 10, 100, 1000, 10000, 100000, 1000000 and test your function with these lists. Plot a graph of running times using matplotlib. Your graph should be a line. i.e. the Dutch Flag algorithm shown has O(n) running time\n",
    "Compare Bubble sort with other sorting methods\n",
    "\n",
    "Implement a function for Bubble sort similar to the other sort functions we discussed in class\n",
    "Use the lecture notes as a starting point, create a Jupyter notebook that compares the running times of all sorting methods (insertion, selection, merge, bubble, pysort) by plotting the running times on the same graph"
   ]
  },
  {
   "cell_type": "code",
   "execution_count": null,
   "metadata": {},
   "outputs": [
    {
     "name": "stdout",
     "output_type": "stream",
     "text": [
      "OG Flag list:\n",
      "['red', 'red', 'white', 'red', 'red', 'red', 'blue', 'blue', 'white', 'blue', 'red', 'blue']\n",
      "\n",
      "\n"
     ]
    },
    {
     "ename": "NameError",
     "evalue": "name 'colors' is not defined",
     "output_type": "error",
     "traceback": [
      "\u001b[1;31m---------------------------------------------------------------------------\u001b[0m",
      "\u001b[1;31mNameError\u001b[0m                                 Traceback (most recent call last)",
      "Cell \u001b[1;32mIn[1], line 32\u001b[0m\n\u001b[0;32m     29\u001b[0m     \u001b[38;5;28mprint\u001b[39m(dutch_flag(three_colour_flag, colours))\n\u001b[0;32m     31\u001b[0m \u001b[38;5;28;01mif\u001b[39;00m \u001b[38;5;18m__name__\u001b[39m \u001b[38;5;241m==\u001b[39m \u001b[38;5;124m\"\u001b[39m\u001b[38;5;124m__main__\u001b[39m\u001b[38;5;124m\"\u001b[39m:\n\u001b[1;32m---> 32\u001b[0m     main()\n",
      "Cell \u001b[1;32mIn[1], line 29\u001b[0m, in \u001b[0;36mmain\u001b[1;34m()\u001b[0m\n\u001b[0;32m     26\u001b[0m \u001b[38;5;28mprint\u001b[39m(three_colour_flag)\n\u001b[0;32m     27\u001b[0m \u001b[38;5;28mprint\u001b[39m(\u001b[38;5;124m\"\u001b[39m\u001b[38;5;130;01m\\n\u001b[39;00m\u001b[38;5;124m\"\u001b[39m)\n\u001b[1;32m---> 29\u001b[0m \u001b[38;5;28mprint\u001b[39m(dutch_flag(three_colour_flag, colours))\n",
      "Cell \u001b[1;32mIn[1], line 8\u001b[0m, in \u001b[0;36mdutch_flag\u001b[1;34m(three_colour_flag, colours)\u001b[0m\n\u001b[0;32m      3\u001b[0m \u001b[38;5;28;01mdef\u001b[39;00m \u001b[38;5;21mdutch_flag\u001b[39m(three_colour_flag: \u001b[38;5;28mlist\u001b[39m, colours: \u001b[38;5;28mlist\u001b[39m) \u001b[38;5;241m-\u001b[39m\u001b[38;5;241m>\u001b[39m \u001b[38;5;28mlist\u001b[39m:\n\u001b[1;32m----> 8\u001b[0m     flag_components: \u001b[38;5;28mdict\u001b[39m \u001b[38;5;241m=\u001b[39m {colors[i]: three_colour_flag\u001b[38;5;241m.\u001b[39mcount(colors[i]) \u001b[38;5;28;01mfor\u001b[39;00m i \u001b[38;5;129;01min\u001b[39;00m \u001b[38;5;28mrange\u001b[39m(\u001b[38;5;28mlen\u001b[39m(colors))}\n\u001b[0;32m     10\u001b[0m     \u001b[38;5;28mprint\u001b[39m(\u001b[38;5;124m\"\u001b[39m\u001b[38;5;124mFlag Components dictionary:\u001b[39m\u001b[38;5;124m\"\u001b[39m)\n\u001b[0;32m     11\u001b[0m     \u001b[38;5;28mprint\u001b[39m(flag_components)\n",
      "\u001b[1;31mNameError\u001b[0m: name 'colors' is not defined"
     ]
    }
   ],
   "source": [
    "import random\n",
    "\n",
    "def dutch_flag(three_colour_flag: list, colours: list) -> list:\n",
    "\n",
    "    flag_components: dict = {colours[i]: three_colour_flag.count(colours[i]) for i in range(len(colours))}\n",
    "\n",
    "    print(\"Flag Components dictionary:\")\n",
    "    print(flag_components)\n",
    "    print(\"\\n\")\n",
    "\n",
    "    sorted_flag: list = []\n",
    "\n",
    "    for color in colours:\n",
    "        sorted_flag += [color] * flag_components[color]\n",
    "\n",
    "    return sorted_flag\n",
    "\n",
    "def main() -> None:\n",
    "    colours: list = ['red', 'white', 'blue']\n",
    "    three_colour_flag: list = random.choices(colours, k=12)\n",
    "\n",
    "    print(\"OG Flag list:\")\n",
    "    print(three_colour_flag)\n",
    "    print(\"\\n\")\n",
    "\n",
    "    print(dutch_flag(three_colour_flag, colours))\n",
    "\n",
    "if __name__ == \"__main__\":\n",
    "    main()"
   ]
  }
 ],
 "metadata": {
  "kernelspec": {
   "display_name": "base",
   "language": "python",
   "name": "python3"
  },
  "language_info": {
   "codemirror_mode": {
    "name": "ipython",
    "version": 3
   },
   "file_extension": ".py",
   "mimetype": "text/x-python",
   "name": "python",
   "nbconvert_exporter": "python",
   "pygments_lexer": "ipython3",
   "version": "3.12.7"
  }
 },
 "nbformat": 4,
 "nbformat_minor": 2
}
