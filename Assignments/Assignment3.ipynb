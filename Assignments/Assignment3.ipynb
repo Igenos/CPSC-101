{
 "cells": [
  {
   "cell_type": "markdown",
   "metadata": {},
   "source": [
    "### Assignment 3 - Algorithm Analysis (Due Mar 21)\n",
    "\n",
    "---\n",
    "\n",
    "\n",
    "## Completion requirements\n",
    "\n",
    "Due: Friday, 21 March 2025, 11:59 PM\n",
    "\n",
    "\n",
    "## Min/Max Search Limit Function \n",
    "Extend the minimum two value/indices function from the lecture to give more values and the choice of min/max. i.e. write a function in python that accepts 3 parameters\n",
    "\n",
    "    - A list to search from\n",
    "    - Choice of min/max\n",
    "    - Number of elements\n",
    "    - Dutch Flag Problem  \n",
    "\n",
    "Extend the Dutch Flag Problem from the lecture to 3 colours. i.e. given a list of strings, each of which is either 'red', 'white', or 'blue' (each is repeated several times in the list), rearrange the list so that the strings are in the order of the Dutch national flag—all the 'red' strings first, then all the 'white' strings, then all the 'blue' strings. Write a function called dutch_flag that takes a list and solves this problem.\n",
    "Generate random lists for n = 10, 100, 1000, 10000, 100000, 1000000 and test your function with these lists. Plot a graph of running times using matplotlib. Your graph should be a line. i.e. the Dutch Flag algorithm shown has O(n) running time\n",
    "Compare Bubble sort with other sorting methods\n",
    "\n",
    "Implement a function for Bubble sort similar to the other sort functions we discussed in class\n",
    "Use the lecture notes as a starting point, create a Jupyter notebook that compares the running times of all sorting methods (insertion, selection, merge, bubble, pysort) by plotting the running times on the same graph"
   ]
  }
 ],
 "metadata": {
  "kernelspec": {
   "display_name": "base",
   "language": "python",
   "name": "python3"
  },
  "language_info": {
   "name": "python",
   "version": "3.12.7"
  }
 },
 "nbformat": 4,
 "nbformat_minor": 2
}
