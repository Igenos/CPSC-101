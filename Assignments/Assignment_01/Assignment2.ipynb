{
 "cells": [
  {
   "cell_type": "markdown",
   "metadata": {},
   "source": [
    "# Q1 - Implement the mathematics of complex numbers in Python (40 points)\n",
    "\n",
    "---\n",
    "\n",
    "Recall that a complex number has real and imaginary parts, x + iy; where x is the real part and y is the imaginary part. Define a \"Complex\" class in Python that can be used as follows\n",
    "\n",
    "c1 = Complex(1,2)\n",
    "\n",
    "c2 = Complex(2,3)\n",
    "\n",
    "print(c1 + c2) # prints \"3 + 5i\"\n",
    "\n",
    "print(c1 - c2) # prints \"-1 - i\"\n",
    "\n",
    "print(c1 * c2) # prints \"-4 + 7i\"\n",
    "\n",
    "print(c1 / c2) # prints \"0.61538461538 + 0.07692307692i\" (optional)\n",
    "\n",
    "print(c1.abs()) # prints \"2.23606798\"\n",
    "\n",
    "\n",
    "Look up definitions of division/absolute value if you need to"
   ]
  },
  {
   "cell_type": "markdown",
   "metadata": {},
   "source": []
  },
  {
   "cell_type": "markdown",
   "metadata": {},
   "source": [
    "# Q2 - Implement a polynomial solver in Python (60 points)\n",
    "\n",
    "---\n",
    "\n",
    "A polynomial in Python can be represented by a list. For example, \n",
    "\n",
    "\n",
    "fx = [-2, 0, 1]\n",
    "\n",
    "\n",
    "represents the polynomial x^2 - 2 = 0. i.e. The elements of the list correspond to the coefficients of the polynomial. Implement a \"Polynomial\" class in Python that can be used as follows\n",
    "\n",
    "\n",
    "fx = Polynomial([-2, 0, 1])\n",
    "\n",
    "print(\"Solving f(x) =\", fx)\n",
    "\n",
    "print('Answer \\t =', fx.solve(1)) # should print 1.414...\n",
    "\n",
    "That is, implement a \"solve\" method, that takes as input an initial value for x, and returns the solution of that polynomial using Newton's Method.\n",
    "\n",
    "\n",
    "Note - For both these questions, start defining the class and __init__, and __str__ methods. You may define any helper methods that you need."
   ]
  },
  {
   "cell_type": "code",
   "execution_count": null,
   "metadata": {},
   "outputs": [],
   "source": [
    "import re\n",
    "\n",
    "class polynomial():\n",
    "    \"\"\"This class defines a polynomial function with n terms. It is to be used in order to store the data of the polynomial and define the functions that can be performed on it.\n",
    "    \\n\\nWe will define \\\"sove\\\" and \\\"integrate\\\".\n",
    "    \\nSolve will find the x and y intercepts of the function.\n",
    "    \\nIntegrate will find the area under the function in between bounds specified by the user.\"\"\"\n",
    "    \n",
    "    # constructor / initlization method\n",
    "    def __init__(self, coefficients):\n",
    "        \"\"\"Defines the original polynomial and the derrivitive therof\"\"\"\n",
    "        self.values = coefficients\n",
    "        self.1_derrivitive = []\n",
    "        self.2_derrivitive = []\n",
    "        self.3_derrivitive = []\n",
    "\n",
    "\n",
    "    # Polynomial solver method.\n",
    "    def solve(self):\n",
    "        \"\"\"This function uses Newton's method to aproximate the x-intercept of a function.\n",
    "        \\nTakes an x value as a starting point and returns the estimate for the intercept based on that starting point\n",
    "        \\nIf the polynomial is a quadratic it solves for the roots using the quadratic formula.\"\"\"\n",
    "\n",
    "    # Polynomial derrive method.\n",
    "    def derrive(self):\n",
    "        \"\"\"This method derrives the polynomial and returns a list of coefficients\"\"\"\n",
    "\n",
    "\n",
    "def main():\n",
    "    \"\"\"Main function with user input\"\"\"\n",
    "    \n",
    "    print(f\"This will count the nucleotides in a DNA string sequence, transcribe it to mRNA, and provide it's reverse compliment\")\n",
    "    print(f\"Please enter the DNA string : \")\n",
    "    Function = polynomial(\n",
    "        list(re.sub(r'[*a-zA-Z]', '', input()))\n",
    "\n",
    "    print(Function)\n",
    "\n",
    "main()"
   ]
  },
  {
   "cell_type": "code",
   "execution_count": 7,
   "metadata": {},
   "outputs": [
    {
     "name": "stdout",
     "output_type": "stream",
     "text": [
      "This will count the nucleotides in a DNA string sequence, transcribe it to mRNA, and provide it's reverse compliment\n",
      "Please enter the DNA string : \n",
      "['1', '1', '2', '1', '3', '5', '1', '5', '1', '6', '3', '1', '5', '3', '5', '1', '3', '8', '7', '6', '5', '4', '1', '2', '3', '1', '3', '.', '2', '1', '.', '3', '2', '1', '.', '3', '2', '1', '.', '3', '2', '1']\n"
     ]
    }
   ],
   "source": [
    "import re\n",
    "\n",
    "to_replace = \",\"\n",
    "\n",
    "def main():\n",
    "    \"\"\"Main function with user input\"\"\"\n",
    "    \n",
    "    print(f\"This will count the nucleotides in a DNA string sequence, transcribe it to mRNA, and provide it's reverse compliment\")\n",
    "    print(f\"Please enter the DNA string : \")\n",
    "    Function = list(''.join(re.sub(r'[*a-zA-Z, ~!@#$%^&*()_+]', '', input())))\n",
    "\n",
    "    print(Function)\n",
    "\n",
    "main()"
   ]
  },
  {
   "cell_type": "code",
   "execution_count": null,
   "metadata": {},
   "outputs": [],
   "source": []
  }
 ],
 "metadata": {
  "kernelspec": {
   "display_name": "Python 3",
   "language": "python",
   "name": "python3"
  },
  "language_info": {
   "codemirror_mode": {
    "name": "ipython",
    "version": 3
   },
   "file_extension": ".py",
   "mimetype": "text/x-python",
   "name": "python",
   "nbconvert_exporter": "python",
   "pygments_lexer": "ipython3",
   "version": "3.12.1"
  },
  "orig_nbformat": 4
 },
 "nbformat": 4,
 "nbformat_minor": 2
}
