{
 "cells": [
  {
   "cell_type": "markdown",
   "metadata": {},
   "source": [
    "# General idea for Agorithm Analysis\n",
    "\n",
    "---\n",
    "\n",
    "Given an algorithm and an input (n). Express the running time as a function of n & ignore \"smaller\" terms.\n",
    "\n",
    "(n(n-1))/2 -> n^2\n",
    "\n",
    "linear search\n",
    "O(n)\n",
    "\n",
    "Exponential Time\n",
    "\n",
    "## Random sort\n",
    "\n",
    "Randomize list and check if it's sorted.\n",
    "You would have to check the list \n",
    "\n",
    "## Subset of set\n",
    "\n",
    "n terms\n",
    "you would have to make a \n",
    "1 subset of n-(n+1) terms \n",
    "1 subset of n-(n+2)\n"
   ]
  },
  {
   "cell_type": "code",
   "execution_count": null,
   "metadata": {
    "vscode": {
     "languageId": "plaintext"
    }
   },
   "outputs": [],
   "source": [
    "print(2*2*2*2)"
   ]
  }
 ],
 "metadata": {
  "language_info": {
   "name": "python"
  }
 },
 "nbformat": 4,
 "nbformat_minor": 2
}
