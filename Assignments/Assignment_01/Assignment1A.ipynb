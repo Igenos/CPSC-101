{
 "cells": [
  {
   "cell_type": "markdown",
   "id": "528eb8c0-5ab1-46e2-ade5-502a1a5dac36",
   "metadata": {},
   "source": [
    "# Q1 - Prime Generator (15)\n",
    "---\n",
    "Write a Python program to generate the first 1000 prime numbers using the Sieve of Eratosthenes. Recall that you are not allowed to use `%`\n",
    "\n",
    "---\n",
    "\n",
    "I made this code in class last week. You mentioned in class that you don;t want me to use the try function. "
   ]
  },
  {
   "cell_type": "code",
   "execution_count": 37,
   "id": "ac66f1d2-9cc6-436a-9582-25a6ed28e93b",
   "metadata": {
    "scrolled": true
   },
   "outputs": [
    {
     "name": "stdout",
     "output_type": "stream",
     "text": [
      "Primes from 0 to what?\n",
      "Prime numbers : [2, 3, 5, 7, 11, 13, 17, 19, 23, 29, 31, 37, 41, 43, 47, 53, 59, 61, 67, 71, 73, 79, 83, 89, 97, 101, 103, 107, 109, 113, 127, 131, 137, 139, 149, 151, 157, 163, 167, 173, 179, 181, 191, 193, 197, 199, 211, 223, 227, 229, 233, 239, 241, 251, 257, 263, 269, 271, 277, 281, 283, 293, 307, 311, 313, 317, 331, 337, 347, 349, 353, 359, 367, 373, 379, 383, 389, 397, 401, 409, 419, 421, 431, 433, 439, 443, 449, 457, 461, 463, 467, 479, 487, 491, 499, 503, 509, 521, 523, 541, 547, 557, 563, 569, 571, 577, 587, 593, 599, 601, 607, 613, 617, 619, 631, 641, 643, 647, 653, 659, 661, 673, 677, 683, 691, 701, 709, 719, 727, 733, 739, 743, 751, 757, 761, 769, 773, 787, 797, 809, 811, 821, 823, 827, 829, 839, 853, 857, 859, 863, 877, 881, 883, 887, 907, 911, 919, 929, 937, 941, 947, 953, 967, 971, 977, 983, 991, 997]\n",
      "Number of primes found : 168 \n"
     ]
    }
   ],
   "source": [
    "# Define Global Varaibles.\n",
    "\n",
    "primes_list = [None]\n",
    "primes_set = {2}\n",
    "\n",
    "def sieve_of_eratosthenes(upper_limit):\n",
    "    \n",
    "    # Change all multiples of the last prime found to False.\n",
    "\n",
    "    for x in range(max(primes_set) ** 2 , len(primes_list) , max(primes_set)):\n",
    "        primes_list[x] = False\n",
    "    \n",
    "    # We need to find the index of the next True value in the List and append that index as a prime number to the set of primes.\n",
    "    # This try will return a ValueError if the next iteration of the function fails the index check. This happens when max() goes out of range of primes_list or doesn't find a True.\n",
    "    # This means we are at the end of the list and can return.\n",
    "\n",
    "    primes_set.append(primes_list.index(True, max(primes_set) + 1))\n",
    "\n",
    "    try:\n",
    "        return sieve_of_eratosthenes(upper_limit)\n",
    "    except:\n",
    "        return\n",
    "\n",
    "def main():\n",
    "    print('Primes from 0 to what?')\n",
    "    try:\n",
    "        \n",
    "        upper_limit = int(input())\n",
    "\n",
    "        if upper_limit < 2:\n",
    "            print(\"Please enter a number greater than or equal to 2.\")\n",
    "\n",
    "        else:\n",
    "            # Now we need to set up our boolean list for the sieve.\n",
    "            primes_list.extend([True for i in range(upper_limit)])\n",
    "            primes_list[0] = False\n",
    "            primes_list[1] = False\n",
    "\n",
    "            sieve_of_eratosthenes(upper_limit)\n",
    "\n",
    "            # Profit!\n",
    "            print(f\"Prime numbers : {sorted(primes_set)}\")\n",
    "            print(f'Number of primes found : {len(primes_set)} ')\n",
    "\n",
    "    except ValueError:\n",
    "        print('Unrecognised input.')\n",
    "\n",
    "main()"
   ]
  },
  {
   "cell_type": "markdown",
   "id": "6e25e970",
   "metadata": {},
   "source": [
    "# Q2 - Luhn Check (15)\n",
    "---\n",
    "\n",
    "Write a Python function that takes as input a credit card number string and returns a Boolean (True/False) depending on whether it's a valid\n",
    "\n",
    "---\n",
    "\n",
    "\n",
    "The divmod() function returns a tuple containing the quotient  and the remainder when argument1 (dividend) is divided by argument2 (divisor).\n",
    "\n",
    "Map() applies the function (arg 1) to every iterable in arg2. Since strings are iterable, I can use it to make a list of digits.\n",
    "\n",
    "I sumed the digits right to left ignoring the check digit.\n",
    "Then I subtracted the sum of the tuple of the doubled even digits (ignoring check) and the remainder of the sum / 10.\n",
    "\n",
    "If this number mod 10 is 0, we have a number we can sell on the dark web.\n",
    "\n",
    "I made it able to strip whitespaces and still check the number.\n"
   ]
  },
  {
   "cell_type": "code",
   "execution_count": 20,
   "id": "610f5bd3",
   "metadata": {},
   "outputs": [
    {
     "name": "stdout",
     "output_type": "stream",
     "text": [
      "Please enter your credit card number :\n",
      "4514 0110 0459 4709 is a valid Crdit card number.\n"
     ]
    }
   ],
   "source": [
    "def luhn_check(card_number):\n",
    "    digits = list(map(int, str(card_number)))\n",
    "    sum_odd = sum(digits[-1::-2])\n",
    "    sum_even = sum([sum(divmod(2 * digit , 10 )) for digit in digits[-2::-2]])\n",
    "    \n",
    "    return (sum_odd + sum_even) % 10 == 0\n",
    "\n",
    "def main():\n",
    "    print(f\"Please enter your credit card number :\")\n",
    "    card_number = input()\n",
    "\n",
    "    if luhn_check(card_number.replace(' ', '')) or len(card_number.replace(' ', '')) < 8 or len(card_number.replace(' ', '')) > 19 :\n",
    "        print(f\"{card_number} is a valid Crdit card number.\")\n",
    "    else:\n",
    "        print(f\"{card_number} is not a valid Credit card number.\")\n",
    "\n",
    "    return\n",
    "\n",
    "main()"
   ]
  },
  {
   "cell_type": "markdown",
   "id": "9fa5c2bc",
   "metadata": {},
   "source": [
    "# Q3 - Palindromes (10)\n",
    "---\n",
    "\n",
    "Write a function in Python, that accepts a word (hard-code it), and returns True/False depending on whether it's a palindrome\n",
    "\n",
    "\n",
    "---\n",
    "\n",
    "understanding tuples is a very useful skill. Change the coments around if you want to enter your own words or phrases, it can accept either."
   ]
  },
  {
   "cell_type": "markdown",
   "id": "656528e7",
   "metadata": {},
   "source": []
  },
  {
   "cell_type": "code",
   "execution_count": 27,
   "id": "76cae426",
   "metadata": {},
   "outputs": [
    {
     "name": "stdout",
     "output_type": "stream",
     "text": [
      "A man a plan a canal Panama is a palindrome.\n"
     ]
    }
   ],
   "source": [
    "def palindrome_check(phrase):\n",
    "\n",
    "    return tuple(phrase.replace(' ','').replace('.','').lower()) == tuple(reversed(phrase.replace(' ','').replace('.','').lower()))\n",
    "\n",
    "\n",
    "def main():\n",
    "    #print(f\"Please enter a word or phrase to check if it's a palindrome :\")\n",
    "    #words = str(input())\n",
    "\n",
    "    words = \"A man a plan a canal Panama.\"\n",
    "\n",
    "    if palindrome_check(words):\n",
    "        print(f\"{words.replace('.','')} is a palindrome.\")\n",
    "    else:\n",
    "        print(f\"{words.replace('.','')} is not a palindrome.\")\n",
    "    return\n",
    "\n",
    "\n",
    "main()"
   ]
  },
  {
   "cell_type": "markdown",
   "id": "853ae4ae",
   "metadata": {},
   "source": [
    "# Q4 - Anagrams (20)\n",
    "---\n",
    "Anagrams are two different words/phrases made up by the same letters. For example, \n",
    "\n",
    "      the Morse Code = here come dots\n",
    "      vacation time = I am not active\n",
    "      astronomer = moon starer\n",
    "      Madonna Louise Ciccone = one cool dance musician\n",
    "      Arthur Weasley = we salute Harry\n",
    "      Tom Marvolo Riddle = I am Lord Voldemort\n",
    "Write a function in Python that accepts two phrases and returns True/False depending on whether they are anagrams. Test your code for the examples given above\n",
    "\n",
    "---\n"
   ]
  },
  {
   "cell_type": "code",
   "execution_count": 31,
   "id": "5bda99f7",
   "metadata": {},
   "outputs": [
    {
     "name": "stdout",
     "output_type": "stream",
     "text": [
      "This will check two phrases to see if they are anagrams.\n",
      "Please enter the first phrase : \n",
      "Please enter the second phrase : \n",
      "'test1' is not an anagram of 'pies'.\n"
     ]
    }
   ],
   "source": [
    "def anagram_check(phrase1, phrase2):\n",
    "\n",
    "    return sorted(tuple(phrase1.replace(' ','').replace('.','').lower())) == sorted(tuple(phrase2.replace(' ','').replace('.','').lower()))\n",
    "\n",
    "\n",
    "def main():\n",
    "    print(f\"This will check two phrases to see if they are anagrams.\")\n",
    "    print(f\"Please enter the first phrase : \")\n",
    "    phrase1 = str(input())\n",
    "\n",
    "    print(f\"Please enter the second phrase : \")\n",
    "    phrase2 = str(input())\n",
    "\n",
    "\n",
    "    if anagram_check(phrase1, phrase2):\n",
    "        print(f\"'{phrase1.replace('.', '')}' is a anagram of '{phrase2.replace('.', '')}'.\")\n",
    "    else:\n",
    "        print(f\"'{phrase1.replace('.', '')}' is not an anagram of '{phrase2.replace('.', '')}'.\")\n",
    "    return\n",
    "\n",
    "\n",
    "main()"
   ]
  },
  {
   "cell_type": "markdown",
   "id": "1c324a50",
   "metadata": {},
   "source": [
    "# Q5 - DNA Strings (20)\n",
    "---\n",
    "Write 3 (separate) functions in Python that accept a DNA string (a string with A,C,G,T) and return\n",
    "\n",
    "1 - A dictionary containing the number of 'A's, 'C's, 'G's, and 'T's \n",
    "\n",
    "2 - The transcribed mRNA (Replacing 'T' with 'U' in the input string)\n",
    "\n",
    "3 - The reverse complement of the DNA string (Replace 'A' with 'T', 'G' with 'C' and vice versa. Then, reverse the order)\n",
    "\n",
    "---\n",
    "\n"
   ]
  },
  {
   "cell_type": "code",
   "execution_count": 14,
   "id": "8c78b173",
   "metadata": {},
   "outputs": [
    {
     "name": "stdout",
     "output_type": "stream",
     "text": [
      "This will count the nucleotides in a DNA string sequence, transcribe it to mRNA, and provide it's reverse compliment\n",
      "Please enter the DNA string : \n",
      "\n",
      "The original DNA string is:\n",
      "\tGCAGTACGTACTGACTACTAATGCTGACTGATGCTGACTCTTGCTGACTGACTGACTGACTAGC\n",
      "It has the following elements:\n",
      "\t{'G': 15, 'C': 16, 'A': 15, 'T': 18}\n",
      "The transcribed mRNA of the original DNA is:\n",
      "\tGCAGUACGUACUGACUACUAAUGCUGACUGAUGCUGACUCUUGCUGACUGACUGACUGACUAGC\n",
      "The reverse compliment of the original DNA is:\n",
      "\tGCTAGTCAGTCAGTCAGTCAGCAAGAGTCAGCATCAGTCAGCATTAGTAGTCAGTACGTACTGC\n"
     ]
    }
   ],
   "source": [
    "class DNA_string():\n",
    "    \"\"\"This datatype is used to store DNA Strings containing only the characters A, C, G, T, and U. It has entries for the nucleotide counts, the transcribed mRNA and the reverse compliment\\n\n",
    "    It's designed to be immutable, but it can be copied or overwritten.\\n\\n \n",
    "    .nucleotides \\t- Type - TUPLE \\t- List of all elements in the DNA string.\\n\n",
    "    .nucleotide_counts \\t- Type - DICTIONARY \\t- List of the nucleotide counts.\\n\n",
    "    .transcribed_mRNA \\t- Type - TUPLE \\t- The DNA after transcribing.\\n\n",
    "    .reverse_compliment \\t- Type - TUPLE \\t- The reverse compliment of the input DNA string.\\n\"\"\"\n",
    "\n",
    "    # constructor / initlization method\n",
    "    def __init__(self, nucleotides):\n",
    "        self.nucleotides = nucleotides\n",
    "        self.nucleotide_counts = DNA_dictionary(self)\n",
    "        self.transcribed_mRNA = DNA_transcriber(self)\n",
    "        self.reverse_compliment = DNA_reverse_compliment(self)\n",
    "\n",
    "    def __str__(self):\n",
    "        return f'\\nThe original DNA string is:\\n\\t{\"\".join(self.nucleotides)}\\nIt has the following elements:\\n\\t{self.nucleotide_counts}\\nThe transcribed mRNA of the original DNA is:\\n\\t{\"\".join(self.transcribed_mRNA)}\\nThe reverse compliment of the original DNA is:\\n\\t{\"\".join(self.reverse_compliment)}'\n",
    "    \n",
    "    def __repr__(self):\n",
    "        return f'DNA_string(\\'{self.nucleotides}\\')'\n",
    "\n",
    "\n",
    "def DNA_dictionary(DNA_input):\n",
    "    temp_dictionary = {}\n",
    "    for nucleoitide in DNA_input.nucleotides:\n",
    "        if nucleoitide not in temp_dictionary:\n",
    "            temp_dictionary[nucleoitide] = 0\n",
    "        temp_dictionary[nucleoitide] += 1\n",
    "\n",
    "    return temp_dictionary \n",
    "\n",
    "\n",
    "def DNA_transcriber(DNA_input):\n",
    "    temp_list = []\n",
    "    for nucleotide in DNA_input.nucleotides:\n",
    "        if nucleotide == 'T':\n",
    "            temp_list.append('U')\n",
    "        else:\n",
    "            temp_list.append(nucleotide)\n",
    "\n",
    "    return tuple(temp_list)\n",
    "\n",
    "\n",
    "def DNA_reverse_compliment(DNA_input):\n",
    "    temp_list = []\n",
    "    for nucleotide in DNA_input.nucleotides:\n",
    "        if nucleotide == 'A':\n",
    "            temp_list.append('T')\n",
    "        elif nucleotide == 'T':\n",
    "            temp_list.append('A')\n",
    "        elif nucleotide == 'G':\n",
    "            temp_list.append('C')\n",
    "        elif nucleotide == 'C':\n",
    "            temp_list.append('G')\n",
    "        else:\n",
    "            temp_list.append(nucleotide)\n",
    "\n",
    "    return tuple(reversed(temp_list))\n",
    "\n",
    "\n",
    "def main():\n",
    "    print(f\"This will count the nucleotides in a DNA string sequence, transcribe it to mRNA, and provide it's reverse compliment\")\n",
    "    print(f\"Please enter the DNA string : \")\n",
    "    DNA1 = DNA_string(tuple(input().upper().replace(' ','')))\n",
    "\n",
    "    print(DNA1)\n",
    "\n",
    "main()"
   ]
  },
  {
   "cell_type": "markdown",
   "id": "45fc1e1a",
   "metadata": {},
   "source": [
    "# Q6 - List of Lists of Divisors (20)\n",
    "---\n",
    "\n",
    "Write a Python script to print a list of lists, each containing a list of divisors of the index for all indices less than or equal to 50.\n",
    "\n",
    "[ [], [1], [1,2], [1,3], [1,2,4], [1,5], [1,2,3,6], ..... , [1,2,5,10,25,50] ]\n",
    "\n",
    "i.e. 0 has no divisors, so the first list is empty. For all prime numbers 'p', the corresponding list would just be [1, p]. For all composite numbers, have the full list of divisors as shown\n",
    "\n",
    "---\n"
   ]
  },
  {
   "cell_type": "code",
   "execution_count": null,
   "id": "3fb1d789",
   "metadata": {},
   "outputs": [],
   "source": [
    "divisor_list = [[],[]]\n",
    "def assemble_list(upper_limit):\n",
    "    for i in range(upper_limit):\n",
    "        \n",
    "    return \n",
    "\n",
    "\n",
    "def main():\n",
    "    #print(f\"Please enter a word or phrase to check if it's a palindrome :\")\n",
    "    #words = str(input())\n",
    "\n",
    "    words = \"A man a plan a canal Panama.\"\n",
    "\n",
    "    if palindrome_check(words):\n",
    "        print(f\"{words.replace('.','')} is a palindrome.\")\n",
    "    else:\n",
    "        print(f\"{words.replace('.','')} is not a palindrome.\")\n",
    "    return\n",
    "\n",
    "\n",
    "main()"
   ]
  }
 ],
 "metadata": {
  "kernelspec": {
   "display_name": "base",
   "language": "python",
   "name": "python3"
  },
  "language_info": {
   "codemirror_mode": {
    "name": "ipython",
    "version": 3
   },
   "file_extension": ".py",
   "mimetype": "text/x-python",
   "name": "python",
   "nbconvert_exporter": "python",
   "pygments_lexer": "ipython3",
   "version": "3.12.7"
  }
 },
 "nbformat": 4,
 "nbformat_minor": 5
}
