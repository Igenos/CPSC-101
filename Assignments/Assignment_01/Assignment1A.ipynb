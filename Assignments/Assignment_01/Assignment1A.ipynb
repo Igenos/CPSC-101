{
 "cells": [
  {
   "cell_type": "markdown",
   "id": "528eb8c0-5ab1-46e2-ade5-502a1a5dac36",
   "metadata": {},
   "source": [
    "# Q1\n",
    "---\n",
    "This is my Code to submit"
   ]
  },
  {
   "cell_type": "code",
   "execution_count": 37,
   "id": "ac66f1d2-9cc6-436a-9582-25a6ed28e93b",
   "metadata": {
    "scrolled": true
   },
   "outputs": [
    {
     "name": "stdout",
     "output_type": "stream",
     "text": [
      "Primes from 0 to what?\n",
      "Prime numbers : [2, 3, 5, 7, 11, 13, 17, 19, 23, 29, 31, 37, 41, 43, 47, 53, 59, 61, 67, 71, 73, 79, 83, 89, 97, 101, 103, 107, 109, 113, 127, 131, 137, 139, 149, 151, 157, 163, 167, 173, 179, 181, 191, 193, 197, 199, 211, 223, 227, 229, 233, 239, 241, 251, 257, 263, 269, 271, 277, 281, 283, 293, 307, 311, 313, 317, 331, 337, 347, 349, 353, 359, 367, 373, 379, 383, 389, 397, 401, 409, 419, 421, 431, 433, 439, 443, 449, 457, 461, 463, 467, 479, 487, 491, 499, 503, 509, 521, 523, 541, 547, 557, 563, 569, 571, 577, 587, 593, 599, 601, 607, 613, 617, 619, 631, 641, 643, 647, 653, 659, 661, 673, 677, 683, 691, 701, 709, 719, 727, 733, 739, 743, 751, 757, 761, 769, 773, 787, 797, 809, 811, 821, 823, 827, 829, 839, 853, 857, 859, 863, 877, 881, 883, 887, 907, 911, 919, 929, 937, 941, 947, 953, 967, 971, 977, 983, 991, 997]\n",
      "Number of primes found : 168 \n"
     ]
    }
   ],
   "source": [
    "# Define Global Varaibles.\n",
    "\n",
    "primes_list = [None]\n",
    "primes_set = {2}\n",
    "\n",
    "def sieve_of_eratosthenes(upper_limit):\n",
    "    \n",
    "    # Change all multiples of the last prime found to False.\n",
    "\n",
    "    for x in range(max(primes_set) ** 2 , len(primes_list) , max(primes_set)):\n",
    "        primes_list[x] = False\n",
    "    \n",
    "    # We need to find the index of the next True value in the List and add that index as a prime number to the set of primes.\n",
    "    # This try will return a ValueError if the next iteration of the function fails the index check. This happens when max() goes out of range of primes_list or doesn't find a True.\n",
    "    # This means we are at the end of the list and can return.\n",
    "\n",
    "    primes_set.add(primes_list.index(True, max(primes_set) + 1))\n",
    "\n",
    "    try:\n",
    "        return sieve_of_eratosthenes(upper_limit)\n",
    "    except:\n",
    "        return\n",
    "\n",
    "def main():\n",
    "    print('Primes from 0 to what?')\n",
    "    try:\n",
    "        \n",
    "        upper_limit = int(input())\n",
    "\n",
    "        if upper_limit < 2:\n",
    "            print(\"Please enter a number greater than or equal to 2.\")\n",
    "\n",
    "        else:\n",
    "            # Now we need to set up our boolean list for the sieve.\n",
    "            primes_list.extend([True for i in range(upper_limit)])\n",
    "            primes_list[0] = False\n",
    "            primes_list[1] = False\n",
    "\n",
    "            sieve_of_eratosthenes(upper_limit)\n",
    "\n",
    "            # Profit!\n",
    "            print(f\"Prime numbers : {sorted(primes_set)}\")\n",
    "            print(f'Number of primes found : {len(primes_set)} ')\n",
    "\n",
    "    except ValueError:\n",
    "        print('Unrecognised input.')\n",
    "\n",
    "main()"
   ]
  },
  {
   "cell_type": "markdown",
   "id": "6e25e970",
   "metadata": {},
   "source": [
    "# Q2\n",
    "---"
   ]
  },
  {
   "cell_type": "code",
   "execution_count": 38,
   "id": "610f5bd3",
   "metadata": {},
   "outputs": [
    {
     "name": "stdout",
     "output_type": "stream",
     "text": [
      "Please enter your credit card number :\n",
      "12345678910\n",
      "12345678910 is a valid Crdit card number.\n"
     ]
    }
   ],
   "source": [
    "def luhn_check(card_number):\n",
    "    print(card_number)\n",
    "    return True\n",
    "\n",
    "def main():\n",
    "    print(f\"Please enter your credit card number :\")\n",
    "    card_number = input()\n",
    "\n",
    "    if luhn_check(card_number) or len(card_number) < 8 or len(card_number) > 19 :\n",
    "        print(f\"{card_number} is a valid Crdit card number.\")\n",
    "    else:\n",
    "        print(f\"{card_number} is not a valid Crdit card number.\")\n",
    "\n",
    "    return\n",
    "\n",
    "main()"
   ]
  }
 ],
 "metadata": {
  "kernelspec": {
   "display_name": "base",
   "language": "python",
   "name": "python3"
  },
  "language_info": {
   "codemirror_mode": {
    "name": "ipython",
    "version": 3
   },
   "file_extension": ".py",
   "mimetype": "text/x-python",
   "name": "python",
   "nbconvert_exporter": "python",
   "pygments_lexer": "ipython3",
   "version": "3.12.7"
  }
 },
 "nbformat": 4,
 "nbformat_minor": 5
}
