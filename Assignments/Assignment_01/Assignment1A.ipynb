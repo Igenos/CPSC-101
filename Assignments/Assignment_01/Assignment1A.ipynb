{
 "cells": [
  {
   "cell_type": "code",
   "execution_count": null,
   "id": "db4f6ea0-0e1a-45c3-8731-3fa027b2309a",
   "metadata": {},
   "outputs": [],
   "source": [
    "def prime_checker(current, divisor):\n",
    "    if (current == 0 or current == 1):\n",
    "        return False\n",
    "    elif (current == divisor): # 2 is a prime, or, we have worked our way all the way up to the input number.\n",
    "        return True\n",
    "    elif (current % divisor == 0): # If it is divisible evenly by any number that's not itself, it is not prime.\n",
    "        return False\n",
    "\n",
    "    return prime_checker(current, int(divisor + 1));\n",
    "\n",
    "print('Primes from 0 to?')\n",
    "usr_choice = int(input())\n",
    "count = 0 \n",
    "for x in range(usr_choice):\n",
    "    if (prime_checker(x,2) == False):\n",
    "        continue #print('{0} = not prime'.format(x))\n",
    "    else:\n",
    "        count += 1\n",
    "        print('{0} = prime'.format(x))\n",
    "\n",
    "print('Number of primes found = {0}'.format(count))"
   ]
  },
  {
   "cell_type": "markdown",
   "id": "528eb8c0-5ab1-46e2-ade5-502a1a5dac36",
   "metadata": {},
   "source": [
    "# Q1\n",
    "---\n",
    "This is my Code to submit"
   ]
  },
  {
   "cell_type": "code",
   "execution_count": null,
   "id": "ac66f1d2-9cc6-436a-9582-25a6ed28e93b",
   "metadata": {
    "scrolled": true
   },
   "outputs": [],
   "source": [
    "def sieve_of_eratosthenes(upper_limit):\n",
    "    print(primes_list)\n",
    "    primes_set.add(primes_list.index(True, max(primes_set) + 1, upper_limit + 1))\n",
    "    \n",
    "    # Change all multiples of the current number to false. range(start of range, end of range, iteration through range)\n",
    "    for x in primes_list[primes_list.index(True) * primes_list.index(True) : len(primes_list) : max(primes_set)]:\n",
    "        primes_list[x] = False\n",
    "        \n",
    "    # This try looks for the next true index in the list. If it doesn't find any (.index() returns an exception that means that there are no more left and we can return.\n",
    "    try:\n",
    "        return sieve_of_eratosthenes(upper_limit)\n",
    "    except:\n",
    "        return\n",
    "\n",
    "\n",
    "#We are asking the user for an integer that will dictate when we stop looking for primes.\n",
    "print('Primes from 0 to what?')\n",
    "try:\n",
    "    upper_limit = int(input())\n",
    "\n",
    "    if upper_limit < 2:\n",
    "        print(\"Please enter a number greater than or equal to 2.\")\n",
    "\n",
    "    # Now we need to set up our boolean list for the sieve and an empty set for us to collect primes in.\n",
    "    primes_list = [True for i in range(upper_limit + 1)]\n",
    "    primes_list[0] = False\n",
    "    primes_list[1] = False\n",
    "    primes_set = {2}\n",
    "    sieve_of_eratosthenes(upper_limit)\n",
    "\n",
    "    # Profit!\n",
    "    print(f\"Prime numbers : {sorted(primes_set)}\")\n",
    "    print(f'Number of primes found : {len(primes_set)} ')\n",
    "\n",
    "except ValueError:\n",
    "    print('Unrecognised input.')"
   ]
  },
  {
   "cell_type": "code",
   "execution_count": null,
   "id": "107ec4c8-63e8-48bf-9148-71196b4f7a47",
   "metadata": {},
   "outputs": [],
   "source": [
    "def sieve_of_eratosthenes(current, iteration, usr_choice):\n",
    "    if (iteration * current > usr_choice): # we are at the end of the list.\n",
    "        return True\n",
    "    if ((primes_index[current])): # Check if current index has already been tagged (False = not prime), if not, 'False' it.\n",
    "        *(primes_index + (iteration * current)) = 1\n",
    "    return sieve_of_eratosthenes(current, int(iteration + 1) # Pass iteration and current value to next recursive function."
   ]
  },
  {
   "cell_type": "markdown",
   "id": "4a45a08c-4cbf-4da9-8f61-07dd5b325d72",
   "metadata": {},
   "source": [
    "This is where I will attempt to make a set of all prime numbers"
   ]
  },
  {
   "cell_type": "code",
   "execution_count": null,
   "id": "25ebbb1c-db45-4d52-856e-a256ed8641c8",
   "metadata": {},
   "outputs": [],
   "source": [
    "def sieve_of_eratosthenes(current, usr_choice):\n",
    "    if (current > usr_choice):  # we are at the end of the list.\n",
    "        return \n",
    "    elif (primes_list[current]): # If the current value is true, that means we have found a prime\n",
    "        primes_set.add(current)\n",
    "        count += 1\n",
    "        for x in range(int(current * current), usr_choice + 1, current):  # Change all multiples of that number to false.\n",
    "            primes_list[x] = False            \n",
    "    return sieve_of_eratosthenes(current + 1, usr_choice) # Pass iteration and current value to next recursive function.\n",
    "                             \n",
    "print('Primes from 0 to?')\n",
    "usr_choice = int(input())\n",
    "primes_set = set()\n",
    "if sieve_of_eratosthenes(2, usr_choice):\n",
    "    print(primes_set)\n",
    "    print('Number of primes found : {0} '.format(len(primes_set)))"
   ]
  }
 ],
 "metadata": {
  "kernelspec": {
   "display_name": "Python 3 (ipykernel)",
   "language": "python",
   "name": "python3"
  }
 },
 "nbformat": 4,
 "nbformat_minor": 5
}
