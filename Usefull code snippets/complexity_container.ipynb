{
 "cells": [
  {
   "cell_type": "markdown",
   "metadata": {},
   "source": [
    "### Finding time Complexity\n",
    "\n",
    "---\n",
    "\n",
    "This will be my time compleity container. \n",
    "\n",
    "I plan to make a function that takes as arguments:\n",
    "\n",
    "    - Another function\n",
    "    - A list of arguments to feed into the function\n",
    "    - \n",
    "\n",
    "And returns:\n",
    "     \n",
    "    - The number of computations that each iteration requires.\n",
    "    - The time in seconds that it takes to complete each iteration.\n",
    "    - The memory required for each iteration."
   ]
  },
  {
   "cell_type": "code",
   "execution_count": null,
   "metadata": {},
   "outputs": [],
   "source": [
    "class complexity_analyzer:\n",
    "    \"\"\"Analyzes the resources required to run a function.\"\"\"\n",
    "\n",
    "    # Set up our dependencies.\n",
    "    import time\n",
    "    import math\n",
    "\n",
    "    # constructor / initialization method\n",
    "    def __init__(function_to_assess , test_inputs , iterations = len(test_inputs) ):\n",
    "        \"\"\"Initializes a new complexity analyser that assesses a function.\n",
    "    \n",
    "        Parameters:\n",
    "            real_components (int or float): The real part (default 0).\n",
    "            imaginary_component (int or float): The imaginary part (default 0).\n",
    "        \"\"\"\n",
    "\n",
    "        self.function = function_to_assess\n",
    "        self.inputs = test_inputs\n",
    "\n",
    "    #str definition method.\n",
    "    def __str__(self):\n",
    "        \"\"\"Defines now the class is to be printed or used as a string\"\"\"\n",
    "        \n",
    "        return f'( {self.real} , {self.imag} i )'"
   ]
  }
 ],
 "metadata": {
  "kernelspec": {
   "display_name": "base",
   "language": "python",
   "name": "python3"
  },
  "language_info": {
   "name": "python",
   "version": "3.12.7"
  }
 },
 "nbformat": 4,
 "nbformat_minor": 2
}
