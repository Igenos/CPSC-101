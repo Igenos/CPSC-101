{
 "cells": [
  {
   "cell_type": "markdown",
   "metadata": {},
   "source": [
    "### Finding time Complexity\n",
    "\n",
    "---\n",
    "\n",
    "This will be my time compleity container. \n",
    "\n",
    "I plan to make a function that takes as arguments:\n",
    "\n",
    "    - Another function\n",
    "    - A list of arguments to feed into the function\n",
    "    - \n",
    "\n",
    "And returns:\n",
    "     \n",
    "    - The number of computations that each iteration requires.\n",
    "    - The time in seconds that it takes to complete each iteration.\n",
    "    - The memory required for each iteration."
   ]
  },
  {
   "cell_type": "code",
   "execution_count": null,
   "metadata": {},
   "outputs": [
    {
     "name": "stdout",
     "output_type": "stream",
     "text": [
      "\n",
      "\n",
      "----------------------------------------\n",
      "Analysing function: sumOfN,  With the arguments: (1000000,)\n",
      "Function sumOfN ran for 5.69e-01 seconds.\n",
      "Function sumOfN had a peak memory usage of 153.43 KB and currently is using 151.56 KB.\n",
      "----------------------------------------\n",
      "\n",
      "\n",
      "Summing integers up to 1,000,000\n",
      "The sum is: 500000500000\n"
     ]
    }
   ],
   "source": [
    "# Set up our dependencies.\n",
    "import time\n",
    "import tracemalloc\n",
    "from types import FunctionType as function\n",
    "\n",
    "def func_analyser(func: function) -> object:\n",
    "    \"\"\"This decorator takes a function as an argument and records it's runtime and memory usage. \n",
    "    put @func_analyser in the line above a function to be analysed in the code.\n",
    "    Returns whatever output that the passed function returned.\"\"\"\n",
    "\n",
    "    def wrapper(*args, **kwargs):\n",
    "\n",
    "        print(f\"\\n\\n{\"-\" * 40}\\nAnalysing function: {func.__name__},  With the arguments: {args}\")\n",
    "        \n",
    "        tracemalloc.start()  # Start recording memory usage.\n",
    "\n",
    "        start = time.perf_counter() # Start runtime timer.\n",
    "        func_output = func(*args, **kwargs)\n",
    "        end = time.perf_counter() # End runtime timer.\n",
    "\n",
    "        current, peak = tracemalloc.get_traced_memory()\n",
    "        tracemalloc.stop() # Stop recording memory usage.\n",
    "        \n",
    "        print(f\"Function {func.__name__} ran for {end - start:.2e} seconds.\")\n",
    "        print(f\"Function {func.__name__} had a peak memory usage of {peak / 1024:.2f} KB and currently is using {current / 1024:.2f} KB.\\n{\"-\" * 40}\\n\\n\")\n",
    "\n",
    "        return func_output\n",
    "\n",
    "    return wrapper\n",
    "\n",
    "@func_analyser\n",
    "def sumOfN(n: int) -> int:\n",
    "\n",
    "   theSum = 0\n",
    "   for i in range(1,n+1):\n",
    "      theSum = theSum + i\n",
    "\n",
    "   return theSum\n",
    "\n",
    "def main() -> None:\n",
    "    \n",
    "    value = sumOfN(1000000)\n",
    "\n",
    "    print(\"Summing integers up to 1,000,000\")\n",
    "    print(f\"The sum is: {value}\")\n",
    "\n",
    "    #for i in range(5):\n",
    "    #    print(f\"Summing integers up to {i * 10000}\")\n",
    "    #    print(f\"The sum is: {sumOfN(i * 10000)}\") \n",
    "\n",
    "if __name__ == \"__main__\":\n",
    "\n",
    "    main()\n",
    "\n"
   ]
  }
 ],
 "metadata": {
  "kernelspec": {
   "display_name": "base",
   "language": "python",
   "name": "python3"
  },
  "language_info": {
   "codemirror_mode": {
    "name": "ipython",
    "version": 3
   },
   "file_extension": ".py",
   "mimetype": "text/x-python",
   "name": "python",
   "nbconvert_exporter": "python",
   "pygments_lexer": "ipython3",
   "version": "3.12.7"
  }
 },
 "nbformat": 4,
 "nbformat_minor": 2
}
