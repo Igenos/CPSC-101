{
 "cells": [
  {
   "cell_type": "markdown",
   "metadata": {},
   "source": [
    "### Finding time Complexity\n",
    "\n",
    "---\n",
    "\n",
    "This will be my time compleity container. \n",
    "\n",
    "I plan to make a function that takes as arguments:\n",
    "\n",
    "    - Another function\n",
    "    - A list of arguments to feed into the function\n",
    "    - \n",
    "\n",
    "And returns:\n",
    "     \n",
    "    - The number of computations that each iteration requires.\n",
    "    - The time in seconds that it takes to complete each iteration.\n",
    "    - The memory required for each iteration."
   ]
  },
  {
   "cell_type": "code",
   "execution_count": null,
   "metadata": {},
   "outputs": [],
   "source": [
    "class complexity_analyzer:\n",
    "    \"\"\"Analyzes the resources required to run a function.\"\"\"\n",
    "\n",
    "    # Set up our dependencies.\n",
    "    import time\n",
    "    import math\n",
    "\n",
    "    # constructor / initialization method\n",
    "    def __init__(function_to_assess , test_inputs , iterations = len(test_inputs) ):\n",
    "        \"\"\"Initializes a new complexity analyser that assesses a function.\n",
    "    \n",
    "        Parameters:\n",
    "            real_components (int or float): The real part (default 0).\n",
    "            imaginary_component (int or float): The imaginary part (default 0).\n",
    "        \"\"\"\n",
    "\n",
    "        self.function = function_to_assess\n",
    "        self.inputs = test_inputs\n",
    "\n",
    "    #str definition method.\n",
    "    def __str__(self):\n",
    "        \"\"\"Defines now the class is to be printed or used as a string\"\"\"\n",
    "        \n",
    "        return f'( {self.real} , {self.imag} i )'"
   ]
  },
  {
   "cell_type": "code",
   "execution_count": 3,
   "metadata": {},
   "outputs": [],
   "source": [
    "#pip install memory-profiler\n",
    "from memory_profiler import memory_usage"
   ]
  },
  {
   "cell_type": "code",
   "execution_count": 9,
   "metadata": {},
   "outputs": [
    {
     "name": "stdout",
     "output_type": "stream",
     "text": [
      "\n",
      "\n",
      "----------------------------------------\n",
      "Analysing function: sumOfN,  With the arguments: (1000000,)\n",
      "Function sumOfN ran for 7.04e-01 seconds.\n",
      "Function sumOfN had a peak memory usage of 152.12 KB and currently is using 150.11 KB.\n",
      "----------------------------------------\n",
      "\n",
      "\n",
      "Summing integers up to 1,000,000\n",
      "The sum is: 500000500000\n"
     ]
    }
   ],
   "source": [
    "# Set up our dependencies.\n",
    "import time\n",
    "import tracemalloc\n",
    "\n",
    "def func_analyser(func):\n",
    "    \"\"\"This decorator takes a function as an argument and records it's runtime and memory usage. \n",
    "    put @func_analyser in the line above a function to be analysed in the code.\n",
    "    Returns whatever output that the passed function returned.\"\"\"\n",
    "\n",
    "    def wrapper(*args, **kwargs):\n",
    "\n",
    "        print(f\"\\n\\n{\"-\" * 40}\\nAnalysing function: {func.__name__},  With the arguments: {args}\")\n",
    "        \n",
    "        tracemalloc.start()  # Start recording memory usage.\n",
    "\n",
    "        start = time.perf_counter() # Start runtime timer.\n",
    "        func_output = func(*args, **kwargs)\n",
    "        end = time.perf_counter() # End runtime timer.\n",
    "\n",
    "        current, peak = tracemalloc.get_traced_memory()\n",
    "        tracemalloc.stop() # Stop recording memory usage.\n",
    "        \n",
    "        print(f\"Function {func.__name__} ran for {end - start:.2e} seconds.\")\n",
    "        print(f\"Function {func.__name__} had a peak memory usage of {peak / 1024:.2f} KB and currently is using {current / 1024:.2f} KB.\\n{\"-\" * 40}\\n\\n\")\n",
    "\n",
    "        return func_output\n",
    "\n",
    "    return wrapper\n",
    "\n",
    "@func_analyser\n",
    "def sumOfN(n):\n",
    "\n",
    "   theSum = 0\n",
    "   for i in range(1,n+1):\n",
    "      theSum = theSum + i\n",
    "\n",
    "   return theSum\n",
    "\n",
    "if __name__ == \"__main__\":\n",
    "\n",
    "    value = sumOfN(1000000)\n",
    "\n",
    "    print(\"Summing integers up to 1,000,000\")\n",
    "    print(f\"The sum is: {value}\")\n",
    "\n"
   ]
  },
  {
   "cell_type": "code",
   "execution_count": null,
   "metadata": {},
   "outputs": [],
   "source": [
    "        \n",
    "        snapshot_start = tracemalloc.take_snapshot()        \n",
    "        snapshot_end = tracemalloc.take_snapshot()\n",
    "\n",
    "        stats = snapshot_end.compare_to(snapshot_start, \"lineno\")\n",
    "\n",
    "\n",
    "        print(f\"Lines of code that allogated memory and how much:\")\n",
    "        for stat in stats[:5]:\n",
    "            print(stat)"
   ]
  }
 ],
 "metadata": {
  "kernelspec": {
   "display_name": "base",
   "language": "python",
   "name": "python3"
  },
  "language_info": {
   "codemirror_mode": {
    "name": "ipython",
    "version": 3
   },
   "file_extension": ".py",
   "mimetype": "text/x-python",
   "name": "python",
   "nbconvert_exporter": "python",
   "pygments_lexer": "ipython3",
   "version": "3.12.7"
  }
 },
 "nbformat": 4,
 "nbformat_minor": 2
}
