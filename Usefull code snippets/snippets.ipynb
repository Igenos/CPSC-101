{
 "cells": [
  {
   "cell_type": "markdown",
   "metadata": {},
   "source": [
    "## User input verifiers\n",
    "\n",
    "---\n",
    "\n",
    "Polynomial edition (tm)"
   ]
  },
  {
   "cell_type": "code",
   "execution_count": null,
   "metadata": {},
   "outputs": [],
   "source": [
    "import re\n",
    "\n",
    "def usr_input():\n",
    "    \"\"\"Collects user inputs and validates input them so they can be used by the polynomial class. \n",
    "    \n",
    "    Returns a list of integer coefficients\"\"\"\n",
    "\n",
    "    # Empty list that will store the coefficients.\n",
    "    all_coefficients = [] \n",
    "\n",
    "    while True:\n",
    "        usr_input = input('Enter a coefficient (or \"x\" to finish) >>> ').strip()\n",
    "\n",
    "        # If the cleaned input is 'x' or 'X', exit the loop.\n",
    "        if usr_input.lower() == 'x':\n",
    "            break\n",
    "\n",
    "        # If the input matched the form \"optional -\" followed by integers, add it to the list.\n",
    "        if re.fullmatch(r'-?\\d+', usr_input):\n",
    "            #convert last input to an integer and add it to the list.\n",
    "            all_coefficients.append(int(usr_input))\n",
    "\n",
    "        # If the input is invalid, warn the user and restart.\n",
    "        else:\n",
    "            print(f'Invalid input. Please enter a valid integer or \"x\" to exit.')\n",
    "            continue\n",
    "\n",
    "    print(f'While exit. last : {usr_input}, all : {all_coefficients}')\n",
    "    return all_coefficients"
   ]
  },
  {
   "cell_type": "markdown",
   "metadata": {},
   "source": [
    "Strips almost everything."
   ]
  },
  {
   "cell_type": "code",
   "execution_count": null,
   "metadata": {},
   "outputs": [],
   "source": [
    "import re\n",
    "\n",
    "def main():\n",
    "    \"\"\"Main function with user input\"\"\"\n",
    "    \n",
    "    print(f\"This will count the nucleotides in a DNA string sequence, transcribe it to mRNA, and provide it's reverse compliment\")\n",
    "    print(f\"Please enter the DNA string : \")\n",
    "    Function = list(''.join(re.sub(r'[*a-zA-Z, ~!@#$%^&*()_+]', '', input())))\n",
    "\n",
    "    print(Function)\n",
    "\n",
    "main()"
   ]
  },
  {
   "cell_type": "markdown",
   "metadata": {},
   "source": [
    "## A code to join a list into a single string"
   ]
  },
  {
   "cell_type": "code",
   "execution_count": null,
   "metadata": {},
   "outputs": [],
   "source": [
    "def join_string(string_list):\n",
    "    \"\"\"Takes a list as an argument and returns a single joined string\"\"\"\n",
    "\n",
    "    return ''.join(string for string in string_list)"
   ]
  }
 ],
 "metadata": {
  "language_info": {
   "name": "python"
  }
 },
 "nbformat": 4,
 "nbformat_minor": 2
}
